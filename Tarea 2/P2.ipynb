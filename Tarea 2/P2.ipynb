{
 "cells": [
  {
   "cell_type": "markdown",
   "metadata": {
    "id": "n5_cyp2C6zfN"
   },
   "source": [
    "# 2. Page Rank"
   ]
  },
  {
   "cell_type": "code",
   "execution_count": 5,
   "metadata": {
    "id": "eB1sgf2GbNv0"
   },
   "outputs": [],
   "source": [
    "class ShortestPath:\n",
    "    def __init__(self, nodes, edges, initial_node):\n",
    "        self.nodes = SparkContext.getOrCreate().parallelize(nodes).map(lambda node: (node, float('inf')))\n",
    "        self.edges = SparkContext.getOrCreate().parallelize(edges).map(lambda edge: (edge[0], (edge[1], edge[2]))).groupByKey().mapValues(list)\n",
    "        self.nodes = self.nodes.map(lambda node: (node[0], 0) if node[0] == initial_node else node)\n",
    "\n",
    "    @staticmethod\n",
    "    def prepare_messages(node):\n",
    "        node_id, (cost, neighbors) = node\n",
    "        for neighbor, edge_cost in neighbors:\n",
    "            yield (neighbor, cost + edge_cost)\n",
    "\n",
    "    @staticmethod\n",
    "    def exchange_messages(messages):\n",
    "        return messages.reduceByKey(lambda a, b: min(a, b))\n",
    "\n",
    "    def calculate(self, max_iterations=100):\n",
    "        nodes = self.nodes\n",
    "        edges = self.edges\n",
    "        for i in range(max_iterations):\n",
    "            prev_nodes = nodes\n",
    "            join_nodes_edges = nodes.join(edges)\n",
    "            messages = join_nodes_edges.flatMap(self.prepare_messages)\n",
    "            final_messages = self.exchange_messages(messages)\n",
    "            nodes = final_messages.leftOuterJoin(prev_nodes).map(lambda x: (x[0], x[1][0] if x[1][1] is None or x[1][0] < x[1][1] else x[1][1]))\n",
    "\n",
    "            if nodes.join(prev_nodes).map(lambda x: x[1][0] == x[1][1]).reduce(lambda a, b: a and b):\n",
    "                print(f\"La ejecución terminó por convergencia en {i+1} iteraciones.\")\n",
    "                break\n",
    "\n",
    "        else:\n",
    "            print(f\"La ejecución terminó porque se alcanzó el máximo de {max_iterations} iteraciones.\")\n",
    "\n",
    "        self.nodes = nodes\n",
    "        return self.nodes.collect()"
   ]
  },
  {
   "cell_type": "code",
   "execution_count": 7,
   "metadata": {
    "colab": {
     "base_uri": "https://localhost:8080/"
    },
    "id": "OLhtQqRtbPh3",
    "outputId": "a45fac82-3574-4629-c879-51fdd3708729"
   },
   "outputs": [
    {
     "name": "stdout",
     "output_type": "stream",
     "text": [
      "La ejecución terminó por convergencia en 3 iteraciones.\n",
      "El costo mínimo para llegar al nodo 2 es: 10\n",
      "El costo mínimo para llegar al nodo 3 es: 13\n",
      "El costo mínimo para llegar al nodo 4 es: 34\n"
     ]
    }
   ],
   "source": [
    "sc = SparkContext.getOrCreate()\n",
    "\n",
    "nodes = [1, 2, 3, 4]\n",
    "edges = [(1, 2, 10), (2, 3, 3), (2, 4, 24), (3, 2, 1)]\n",
    "\n",
    "shortest_path = ShortestPath(nodes, edges, 1)\n",
    "result = shortest_path.calculate(max_iterations=10)\n",
    "\n",
    "for node in result:\n",
    "    print(f\"El costo mínimo para llegar al nodo {node[0]} es: {node[1]}\")"
   ]
  }
 ],
 "metadata": {
  "colab": {
   "provenance": []
  },
  "kernelspec": {
   "display_name": "Python 3 (ipykernel)",
   "language": "python",
   "name": "python3"
  },
  "language_info": {
   "codemirror_mode": {
    "name": "ipython",
    "version": 3
   },
   "file_extension": ".py",
   "mimetype": "text/x-python",
   "name": "python",
   "nbconvert_exporter": "python",
   "pygments_lexer": "ipython3",
   "version": "3.10.9"
  }
 },
 "nbformat": 4,
 "nbformat_minor": 1
}
